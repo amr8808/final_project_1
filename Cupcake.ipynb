{
 "cells": [
  {
   "cell_type": "markdown",
   "id": "40420a48",
   "metadata": {},
   "source": [
    "# <u>Project 1 - NFT Collection Monitor \n",
    "\n",
    "    \n",
    "\n",
    "### <u>Cupcake</u> (Days 1 & 2)\n",
    "  \n",
    "- Identify 1 NFT **( Jon )**\n",
    "- Connect API to retrieve data **( Jon )**\n",
    "- Determine relevant data and metrics **( Arjan )**\n",
    "    - description\n",
    "    - \n",
    "- Clean and organize DataFrame **( Arjan )**\n",
    "  \n",
    "  \n",
    "\n",
    "  \n",
    "### <u>Birthday Cake</u> (Days 3 & 4 - with demo)\n",
    "  \n",
    "- Connect API for 1 collection **( Jon )**\n",
    "- Query data **( Arjan )**\n",
    "- Start SQL database **( Arjan )**\n",
    "- Begin building functions/containers of code **( Jon )**\n",
    "  \n",
    "  \n",
    "  \n",
    "### <u>Wedding Cake</u> (Day 5)\n",
    "- One panel dashboard with summary metrics for single NFT collection on OpenSea\n",
    "    - Must Haves: \n",
    "        - Collection Name\n",
    "        - NFT Count\n",
    "        - Floor Price\n",
    "        - Current Market Cap (with visualization)\n",
    "        - Marketplace \n",
    "    - Nice to Haves:\n",
    "        - NFT thumbnail\n",
    "        - Interactive panel by asset ID\n",
    "        - Use Grafana"
   ]
  },
  {
   "cell_type": "markdown",
   "id": "264fdb94",
   "metadata": {},
   "source": [
    "token_id, name, asset_des, project_des, image_thumbnail, currency_data,"
   ]
  }
 ],
 "metadata": {
  "kernelspec": {
   "display_name": "Python 3",
   "language": "python",
   "name": "python3"
  },
  "language_info": {
   "codemirror_mode": {
    "name": "ipython",
    "version": 3
   },
   "file_extension": ".py",
   "mimetype": "text/x-python",
   "name": "python",
   "nbconvert_exporter": "python",
   "pygments_lexer": "ipython3",
   "version": "3.7.10"
  }
 },
 "nbformat": 4,
 "nbformat_minor": 5
}
